{
 "cells": [
  {
   "cell_type": "code",
   "execution_count": 16,
   "metadata": {},
   "outputs": [
    {
     "data": {
      "text/plain": [
       "(5, 0)"
      ]
     },
     "execution_count": 16,
     "metadata": {},
     "output_type": "execute_result"
    }
   ],
   "source": [
    "import pygame\n",
    "import math\n",
    "pygame.init()"
   ]
  },
  {
   "cell_type": "code",
   "execution_count": 17,
   "metadata": {},
   "outputs": [],
   "source": [
    "Width , Height = 1200, 1200\n",
    "Win = pygame.display.set_mode((Width,Height))\n",
    "pygame.display.set_caption(\" Planet Simulation\")\n",
    "\n",
    "WHITE = (0, 255, 255)\n",
    "YELLOW = (255, 255, 0)\n",
    "BLUE = (100, 149, 237)\n",
    "RED = (188, 39, 50)\n",
    "DARK_GREY = (80, 78, 81)\n",
    "LIGHT_BROWN = (255, 204, 153)\n",
    "\n",
    "\n",
    "\n",
    "Font = pygame.font.SysFont(\"comicsans\", 16)"
   ]
  },
  {
   "cell_type": "code",
   "execution_count": 18,
   "metadata": {},
   "outputs": [],
   "source": [
    "class Planet:\n",
    "    AU = 149.6e6 * 1000\n",
    "    G = 6.67428e-11\n",
    "    Scale = 250 / AU  #1AU = 100px\n",
    "    TIMESTEP = 3600 * 24  #1 Day\n",
    "\n",
    "\n",
    "    def __init__(self, x, y, radius, color, mass):\n",
    "        self.x = x\n",
    "        self.y = y\n",
    "        self.radius = radius\n",
    "        self.color = color\n",
    "        self.mass = mass\n",
    "\n",
    "        self.orbit = []\n",
    "        self.sun = False\n",
    "        self.dist_to_sun = 0\n",
    "\n",
    "        self.x_vel = 0\n",
    "        self.y_vel = 0\n",
    "\n",
    "    def draw(self,win):\n",
    "        x = self.x * self.Scale + Width/2\n",
    "        y = self.y * self.Scale + Height/2\n",
    "        if len(self.orbit)> 2:\n",
    "            updated_points = []\n",
    "            for point in self.orbit:\n",
    "                x, y = point\n",
    "                x = x * self.Scale + Width / 2\n",
    "                y = y * self.Scale + Height / 2\n",
    "                updated_points.append((x,y))\n",
    "        \n",
    "\n",
    "            pygame.draw.lines(win, self.color, False, updated_points , 2)\n",
    "\n",
    "        \n",
    "\n",
    "        pygame.draw.circle(win, self.color, (x,y), self.radius)\n",
    "\n",
    "        if not self.sun:\n",
    "            distance_text = Font.render(f\"{round(self.dist_to_sun/1000, 1)}km\", 1, WHITE)\n",
    "            win.blit(distance_text, (x - distance_text.get_width()/1, y - distance_text.get_height()/2))\n",
    "           \n",
    "\n",
    "\n",
    "    def attraction(self, other):\n",
    "        other_x, other_y = other.x,other.y\n",
    "        distance_x = other_x - self.x\n",
    "        distance_y = other_y - self.y\n",
    "        distance = math.sqrt(distance_x**2 + distance_y**2)\n",
    "\n",
    "        if other.sun:\n",
    "            self.dist_to_sun = distance\n",
    "\n",
    "        force = self.G * self.mass * other.mass / distance**2\n",
    "        theta = math.atan2(distance_y , distance_x)\n",
    "        force_x = math.cos(theta)*force\n",
    "        force_y = math.sin(theta)*force\n",
    "        return force_x, force_y\n",
    "\n",
    "\n",
    "    def update_pos(self, planets):\n",
    "        total_fx = total_fy = 0 \n",
    "        for planet in planets:\n",
    "            if self == planet:\n",
    "                continue\n",
    "            fx, fy = self.attraction(planet)\n",
    "            total_fx += fx\n",
    "            total_fy += fy\n",
    "\n",
    "        self.x_vel += total_fx / self.mass * self.TIMESTEP #F = M/A, \n",
    "        self.y_vel += total_fy / self.mass * self.TIMESTEP\n",
    "\n",
    "        self.x += self.x_vel * self.TIMESTEP\n",
    "        self.y += self.y_vel * self.TIMESTEP\n",
    "        self.orbit.append((self.x,self.y))"
   ]
  },
  {
   "cell_type": "code",
   "execution_count": 19,
   "metadata": {},
   "outputs": [],
   "source": [
    "def main():\n",
    "\trun = True\n",
    "\tclock = pygame.time.Clock()\n",
    "\n",
    "\tsun = Planet(0, 0, 30, YELLOW, 1.98892 * 10**30)\n",
    "\tsun.sun = True\n",
    "\n",
    "\tearth = Planet(-1 * Planet.AU, 0, 16, BLUE, 5.9742 * 10**24)\n",
    "\tearth.y_vel = 29.783 * 1000 \n",
    "\n",
    "\tmars = Planet(-1.524 * Planet.AU, 0, 12, RED, 6.39 * 10**23)\n",
    "\tmars.y_vel = 24.077 * 1000\n",
    "\n",
    "\tmercury = Planet(0.387 * Planet.AU, 0, 8, DARK_GREY, 3.30 * 10**23)\n",
    "\tmercury.y_vel = -47.4 * 1000\n",
    "\n",
    "\tvenus = Planet(0.723 * Planet.AU, 0, 14, WHITE, 4.8685 * 10**24)\n",
    "\tvenus.y_vel = -35.02 * 1000\n",
    "\n",
    "\n",
    "\t# mars = Planet(-1.524 * Planet.AU, 0, 12, RED, 6.39 * 10**23)\n",
    "\t# mars.y_vel = 24.077 * 1000\n",
    "\n",
    "\t# mercury = Planet(0.387 * Planet.AU, 0, 8, DARK_GREY, 3.30 * 10**23)\n",
    "\t# mercury.y_vel = -47.4 * 1000\n",
    "\n",
    "\t# venus = Planet(0.723 * Planet.AU, 0, 14, WHITE, 4.8685 * 10**24)\n",
    "\t# venus.y_vel = -35.02 * 1000\n",
    "\n",
    "\tplanets = [sun, earth, mars, mercury, venus]\n",
    "\n",
    "\twhile run:\n",
    "\t\tclock.tick(60)\n",
    "\t\tWin.fill((0, 0, 0))\n",
    "\n",
    "\t\tfor event in pygame.event.get():\n",
    "\t\t\tif event.type == pygame.QUIT:\n",
    "\t\t\t\trun = False\n",
    "\n",
    "\t\tfor planet in planets:\n",
    "\t\t\tplanet.update_pos(planets)\n",
    "\t\t\tplanet.draw(Win)\n",
    "\n",
    "\t\tpygame.display.update()\n",
    "\n",
    "\tpygame.quit()\n"
   ]
  },
  {
   "cell_type": "code",
   "execution_count": 20,
   "metadata": {},
   "outputs": [],
   "source": [
    "main()"
   ]
  },
  {
   "cell_type": "code",
   "execution_count": null,
   "metadata": {},
   "outputs": [],
   "source": []
  }
 ],
 "metadata": {
  "interpreter": {
   "hash": "2be5faf79681da6f2a61fdfdd5405d65d042280f7fba6178067603e3a2925119"
  },
  "kernelspec": {
   "display_name": "Python 3.10.2 64-bit",
   "language": "python",
   "name": "python3"
  },
  "language_info": {
   "codemirror_mode": {
    "name": "ipython",
    "version": 3
   },
   "file_extension": ".py",
   "mimetype": "text/x-python",
   "name": "python",
   "nbconvert_exporter": "python",
   "pygments_lexer": "ipython3",
   "version": "3.10.2"
  },
  "orig_nbformat": 4
 },
 "nbformat": 4,
 "nbformat_minor": 2
}
